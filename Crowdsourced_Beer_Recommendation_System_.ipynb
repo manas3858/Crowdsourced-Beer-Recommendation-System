{
  "nbformat": 4,
  "nbformat_minor": 0,
  "metadata": {
    "colab": {
      "name": "Crowdsourced Beer Recommendation System .ipynb",
      "provenance": [],
      "collapsed_sections": []
    },
    "kernelspec": {
      "name": "python3",
      "display_name": "Python 3"
    }
  },
  "cells": [
    {
      "cell_type": "markdown",
      "metadata": {
        "id": "VUCGwhWhNQG-",
        "colab_type": "text"
      },
      "source": [
        "## Colab Setup"
      ]
    },
    {
      "cell_type": "code",
      "metadata": {
        "id": "xMfRiQZaW9uX",
        "colab_type": "code",
        "colab": {}
      },
      "source": [
        "# Code to read csv file into Colaboratory:\n",
        "!pip install -U -q PyDrive\n",
        "from pydrive.auth import GoogleAuth\n",
        "from pydrive.drive import GoogleDrive\n",
        "from google.colab import auth\n",
        "from oauth2client.client import GoogleCredentials\n",
        "# Authenticate and create the PyDrive client.\n",
        "auth.authenticate_user()\n",
        "gauth = GoogleAuth()\n",
        "gauth.credentials = GoogleCredentials.get_application_default()\n",
        "drive = GoogleDrive(gauth)"
      ],
      "execution_count": 0,
      "outputs": []
    },
    {
      "cell_type": "markdown",
      "metadata": {
        "id": "V1GXy3EUNYH1",
        "colab_type": "text"
      },
      "source": [
        "## Data Scraping"
      ]
    },
    {
      "cell_type": "code",
      "metadata": {
        "id": "I8S-0FRTXA0_",
        "colab_type": "code",
        "outputId": "fa4add40-9f95-4b0a-8ca1-f01640784103",
        "colab": {
          "base_uri": "https://localhost:8080/",
          "height": 567
        }
      },
      "source": [
        "# install chromium, its driver, and selenium\n",
        "!apt-get update\n",
        "!apt install -yq chromium-chromedriver\n",
        "!apt install chromium-chromedriver\n",
        "!cp /usr/lib/chromium-browser/chromedriver /usr/bin\n",
        "\n",
        "!pip install selenium\n",
        "# set options to be headless, ..\n",
        "from selenium import webdriver\n",
        "options = webdriver.ChromeOptions()\n",
        "options.add_argument('--headless')\n",
        "options.add_argument('--no-sandbox')\n",
        "options.add_argument('--disable-dev-shm-usage')\n",
        "# open it, go to a website, and get results\n",
        "wd = webdriver.Chrome('chromedriver',options=options)"
      ],
      "execution_count": 0,
      "outputs": [
        {
          "output_type": "stream",
          "text": [
            "\r0% [Working]\r            \rIgn:1 https://developer.download.nvidia.com/compute/cuda/repos/ubuntu1804/x86_64  InRelease\n",
            "\r0% [Connecting to archive.ubuntu.com (91.189.88.173)] [Waiting for headers] [Co\r                                                                               \rHit:2 https://cloud.r-project.org/bin/linux/ubuntu bionic-cran35/ InRelease\n",
            "\r0% [Connecting to archive.ubuntu.com (91.189.88.173)] [Waiting for headers] [Wa\r0% [2 InRelease gpgv 3,626 B] [Connecting to archive.ubuntu.com (91.189.88.173)\r                                                                               \rHit:3 http://ppa.launchpad.net/graphics-drivers/ppa/ubuntu bionic InRelease\n",
            "\r0% [2 InRelease gpgv 3,626 B] [Connecting to archive.ubuntu.com (91.189.88.173)\r                                                                               \rHit:4 http://security.ubuntu.com/ubuntu bionic-security InRelease\n",
            "\r0% [2 InRelease gpgv 3,626 B] [Connecting to archive.ubuntu.com (91.189.88.173)\r                                                                               \rIgn:5 https://developer.download.nvidia.com/compute/machine-learning/repos/ubuntu1804/x86_64  InRelease\n",
            "\r0% [2 InRelease gpgv 3,626 B] [Waiting for headers] [Connecting to ppa.launchpa\r                                                                               \rHit:6 https://developer.download.nvidia.com/compute/cuda/repos/ubuntu1804/x86_64  Release\n",
            "Hit:7 https://developer.download.nvidia.com/compute/machine-learning/repos/ubuntu1804/x86_64  Release\n",
            "Hit:8 http://archive.ubuntu.com/ubuntu bionic InRelease\n",
            "Hit:9 http://ppa.launchpad.net/marutter/c2d4u3.5/ubuntu bionic InRelease\n",
            "Hit:10 http://archive.ubuntu.com/ubuntu bionic-updates InRelease\n",
            "Hit:11 http://archive.ubuntu.com/ubuntu bionic-backports InRelease\n",
            "Reading package lists... Done\n",
            "Reading package lists...\n",
            "Building dependency tree...\n",
            "Reading state information...\n",
            "chromium-chromedriver is already the newest version (78.0.3904.108-0ubuntu0.18.04.1).\n",
            "The following package was automatically installed and is no longer required:\n",
            "  libnvidia-common-430\n",
            "Use 'apt autoremove' to remove it.\n",
            "0 upgraded, 0 newly installed, 0 to remove and 68 not upgraded.\n",
            "Reading package lists... Done\n",
            "Building dependency tree       \n",
            "Reading state information... Done\n",
            "chromium-chromedriver is already the newest version (78.0.3904.108-0ubuntu0.18.04.1).\n",
            "The following package was automatically installed and is no longer required:\n",
            "  libnvidia-common-430\n",
            "Use 'apt autoremove' to remove it.\n",
            "0 upgraded, 0 newly installed, 0 to remove and 68 not upgraded.\n",
            "cp: '/usr/lib/chromium-browser/chromedriver' and '/usr/bin/chromedriver' are the same file\n",
            "Requirement already satisfied: selenium in /usr/local/lib/python3.6/dist-packages (3.141.0)\n",
            "Requirement already satisfied: urllib3 in /usr/local/lib/python3.6/dist-packages (from selenium) (1.24.3)\n"
          ],
          "name": "stdout"
        }
      ]
    },
    {
      "cell_type": "code",
      "metadata": {
        "id": "HvQUYC2wXK01",
        "colab_type": "code",
        "colab": {}
      },
      "source": [
        "\n",
        "import pandas as pd\n",
        "# webdriver provides capabilities for navigating to web pages\n",
        "driver = webdriver.Chrome('chromedriver', options=options)\n"
      ],
      "execution_count": 0,
      "outputs": []
    },
    {
      "cell_type": "code",
      "metadata": {
        "id": "pY_FVOTtXR0u",
        "colab_type": "code",
        "colab": {}
      },
      "source": [
        "# scraping and storing links\n",
        "links = pd.DataFrame(columns=['beer','link'])\n",
        "\n",
        "driver.get('https://www.beeradvocate.com/beer/top-rated/')\n",
        "\n",
        "for i in range(250):\n",
        "\n",
        "  links.loc[i,'link'] = driver.find_elements_by_xpath('/html/body/div[2]/div/div[2]/div[2]/div[2]/div/div/div[3]/div/div/div[2]/table/tbody/tr[' + str(i+2) + ']/td[2]/a')[0].get_attribute('href')\n",
        "  links.loc[i,'beer'] = driver.find_elements_by_xpath('/html/body/div[2]/div/div[2]/div[2]/div[2]/div/div/div[3]/div/div/div[2]/table/tbody/tr[' + str(i+2) + ']/td[2]/a/b')[0].text"
      ],
      "execution_count": 0,
      "outputs": []
    },
    {
      "cell_type": "code",
      "metadata": {
        "id": "z85aFFv8jNpg",
        "colab_type": "code",
        "colab": {}
      },
      "source": [
        "# scraping reviews going through all the links\n",
        "df = pd.DataFrame(columns = ['product_name','product_review','user_rating'])\n",
        "for i in range(len(links)):\n",
        "  \n",
        "  driver.get(links.iloc[i,1])\n",
        "  for j in range(25):\n",
        "    try:\n",
        "      product_review = driver.find_element_by_xpath('/html/body/div[2]/div/div[2]/div[2]/div[2]/div/div/div[3]/div/div/div[2]/div[8]/div/div['+ str(j+1) +']/div[2]').text\n",
        "      df.loc[25*i+j,'product_name'] = links.iloc[i,0]\n",
        "      df.loc[25*i+j,'product_review'] = product_review\n",
        "      df.loc[25*i+j,'user_rating'] = driver.find_element_by_xpath('/html/body/div[2]/div/div[2]/div[2]/div[2]/div/div/div[3]/div/div/div[2]/div[8]/div/div['+ str(j+1) +']/div[2]/span[1]').text\n",
        "    except:\n",
        "      break"
      ],
      "execution_count": 0,
      "outputs": []
    },
    {
      "cell_type": "code",
      "metadata": {
        "id": "z9czL2TlvXVx",
        "colab_type": "code",
        "colab": {}
      },
      "source": [
        "import re\n",
        "# taking out only the review content from the scrapped data\n",
        "df.iloc[:,1] = df.iloc[:,1].map(lambda x:re.split('\\n\\n',x)[1:-2])\n",
        "df.iloc[:,1] = df.iloc[:,1].map(lambda x:\" \".join(x))"
      ],
      "execution_count": 0,
      "outputs": []
    },
    {
      "cell_type": "code",
      "metadata": {
        "id": "Tf62MuWkJVsc",
        "colab_type": "code",
        "colab": {}
      },
      "source": [
        "df.to_csv('scrapped_beer_data.csv')"
      ],
      "execution_count": 0,
      "outputs": []
    },
    {
      "cell_type": "code",
      "metadata": {
        "id": "vQk9U1dKJp2m",
        "colab_type": "code",
        "outputId": "c0324a2a-289a-4fc8-c1ec-ce6eaffcf6e5",
        "colab": {
          "base_uri": "https://localhost:8080/",
          "height": 197
        }
      },
      "source": [
        "df.head()"
      ],
      "execution_count": 0,
      "outputs": [
        {
          "output_type": "execute_result",
          "data": {
            "text/html": [
              "<div>\n",
              "<style scoped>\n",
              "    .dataframe tbody tr th:only-of-type {\n",
              "        vertical-align: middle;\n",
              "    }\n",
              "\n",
              "    .dataframe tbody tr th {\n",
              "        vertical-align: top;\n",
              "    }\n",
              "\n",
              "    .dataframe thead th {\n",
              "        text-align: right;\n",
              "    }\n",
              "</style>\n",
              "<table border=\"1\" class=\"dataframe\">\n",
              "  <thead>\n",
              "    <tr style=\"text-align: right;\">\n",
              "      <th></th>\n",
              "      <th>product_name</th>\n",
              "      <th>product_review</th>\n",
              "      <th>user_rating</th>\n",
              "    </tr>\n",
              "  </thead>\n",
              "  <tbody>\n",
              "    <tr>\n",
              "      <th>0</th>\n",
              "      <td>Kentucky Brunch Brand Stout</td>\n",
              "      <td>2016 Silver Wax. Aroma has whiskey, maple, tof...</td>\n",
              "      <td>4.8</td>\n",
              "    </tr>\n",
              "    <tr>\n",
              "      <th>1</th>\n",
              "      <td>Kentucky Brunch Brand Stout</td>\n",
              "      <td>The beer pours Pitch Black with a frothy tan h...</td>\n",
              "      <td>4.74</td>\n",
              "    </tr>\n",
              "    <tr>\n",
              "      <th>2</th>\n",
              "      <td>Kentucky Brunch Brand Stout</td>\n",
              "      <td>Probably the smoothest beer I have ever had. S...</td>\n",
              "      <td>4.68</td>\n",
              "    </tr>\n",
              "    <tr>\n",
              "      <th>3</th>\n",
              "      <td>Kentucky Brunch Brand Stout</td>\n",
              "      <td>Dark black, very thick, a little bit of tan he...</td>\n",
              "      <td>5</td>\n",
              "    </tr>\n",
              "    <tr>\n",
              "      <th>4</th>\n",
              "      <td>Kentucky Brunch Brand Stout</td>\n",
              "      <td>Poured black as ink with thin ruby edges at 58...</td>\n",
              "      <td>4.97</td>\n",
              "    </tr>\n",
              "  </tbody>\n",
              "</table>\n",
              "</div>"
            ],
            "text/plain": [
              "                  product_name  ... user_rating\n",
              "0  Kentucky Brunch Brand Stout  ...         4.8\n",
              "1  Kentucky Brunch Brand Stout  ...        4.74\n",
              "2  Kentucky Brunch Brand Stout  ...        4.68\n",
              "3  Kentucky Brunch Brand Stout  ...           5\n",
              "4  Kentucky Brunch Brand Stout  ...        4.97\n",
              "\n",
              "[5 rows x 3 columns]"
            ]
          },
          "metadata": {
            "tags": []
          },
          "execution_count": 14
        }
      ]
    },
    {
      "cell_type": "markdown",
      "metadata": {
        "id": "eIXSwovGJrQP",
        "colab_type": "text"
      },
      "source": [
        "## Similarity Analysis"
      ]
    },
    {
      "cell_type": "code",
      "metadata": {
        "id": "XXTIbTO0WwCf",
        "colab_type": "code",
        "colab": {}
      },
      "source": [
        "# https://medium.com/better-programming/the-beginners-guide-to-similarity-matching-using-spacy-782fc2922f7c"
      ],
      "execution_count": 0,
      "outputs": []
    },
    {
      "cell_type": "code",
      "metadata": {
        "id": "VxWCaFtBKHW_",
        "colab_type": "code",
        "outputId": "aa71d237-000c-458b-f836-709d1a24c864",
        "colab": {
          "base_uri": "https://localhost:8080/",
          "height": 52
        }
      },
      "source": [
        "import spacy\n",
        "import spacy.cli\n",
        "spacy.cli.download(\"en_core_web_lg\")\n",
        "import en_core_web_lg\n",
        "\n",
        "nlp = en_core_web_lg.load()\n",
        "#nlp = spacy.load('en_core_web_lg')"
      ],
      "execution_count": 0,
      "outputs": [
        {
          "output_type": "stream",
          "text": [
            "\u001b[38;5;2m✔ Download and installation successful\u001b[0m\n",
            "You can now load the model via spacy.load('en_core_web_lg')\n"
          ],
          "name": "stdout"
        }
      ]
    },
    {
      "cell_type": "code",
      "metadata": {
        "id": "nWmgHXyEOEWd",
        "colab_type": "code",
        "outputId": "dc87467e-12b7-4c17-bfc4-dac38f56b1b3",
        "colab": {
          "base_uri": "https://localhost:8080/",
          "height": 34
        }
      },
      "source": [
        "# sample check\n",
        "doc1 = nlp(\"How do I turn sound on/off?\")\n",
        "doc2 = nlp(\"How do I obtain a pet?\")\n",
        "doc1.similarity(doc2)"
      ],
      "execution_count": 0,
      "outputs": [
        {
          "output_type": "execute_result",
          "data": {
            "text/plain": [
              "0.8680367210908022"
            ]
          },
          "metadata": {
            "tags": []
          },
          "execution_count": 17
        }
      ]
    },
    {
      "cell_type": "code",
      "metadata": {
        "id": "mvyror2MOFnl",
        "colab_type": "code",
        "colab": {}
      },
      "source": [
        "# selecting top 3 attributes - All 3 are significantly present in the reviews - verified in the scrapped in Excel\n",
        "attributes = 'Fruity Robust Balanced'"
      ],
      "execution_count": 0,
      "outputs": []
    },
    {
      "cell_type": "code",
      "metadata": {
        "id": "nMcXrRbpPBYm",
        "colab_type": "code",
        "colab": {}
      },
      "source": [
        "df.loc[:,\"similarity\"] = df.iloc[:,1].map(lambda x:nlp(x).similarity(nlp(attributes)))"
      ],
      "execution_count": 0,
      "outputs": []
    },
    {
      "cell_type": "code",
      "metadata": {
        "id": "Im5_2pXlPvPM",
        "colab_type": "code",
        "colab": {}
      },
      "source": [
        "top_300 = df.sort_values(by = 'similarity', ascending=False)[:300]"
      ],
      "execution_count": 0,
      "outputs": []
    },
    {
      "cell_type": "code",
      "metadata": {
        "id": "kHCY5chTSIQ_",
        "colab_type": "code",
        "outputId": "4cf28659-e410-40c9-ef81-56cb28f2ea5c",
        "colab": {
          "base_uri": "https://localhost:8080/",
          "height": 406
        }
      },
      "source": [
        "top_300"
      ],
      "execution_count": 0,
      "outputs": [
        {
          "output_type": "execute_result",
          "data": {
            "text/html": [
              "<div>\n",
              "<style scoped>\n",
              "    .dataframe tbody tr th:only-of-type {\n",
              "        vertical-align: middle;\n",
              "    }\n",
              "\n",
              "    .dataframe tbody tr th {\n",
              "        vertical-align: top;\n",
              "    }\n",
              "\n",
              "    .dataframe thead th {\n",
              "        text-align: right;\n",
              "    }\n",
              "</style>\n",
              "<table border=\"1\" class=\"dataframe\">\n",
              "  <thead>\n",
              "    <tr style=\"text-align: right;\">\n",
              "      <th></th>\n",
              "      <th>product_name</th>\n",
              "      <th>product_review</th>\n",
              "      <th>user_rating</th>\n",
              "      <th>similarity</th>\n",
              "    </tr>\n",
              "  </thead>\n",
              "  <tbody>\n",
              "    <tr>\n",
              "      <th>1675</th>\n",
              "      <td>Doppelganger</td>\n",
              "      <td>Dark, murky orange in color with an unfiltered...</td>\n",
              "      <td>4.43</td>\n",
              "      <td>0.718292</td>\n",
              "    </tr>\n",
              "    <tr>\n",
              "      <th>732</th>\n",
              "      <td>Duck Duck Gooze</td>\n",
              "      <td>On tap at Beavertown Extravaganza. Aroma has s...</td>\n",
              "      <td>4.5</td>\n",
              "      <td>0.715458</td>\n",
              "    </tr>\n",
              "    <tr>\n",
              "      <th>4105</th>\n",
              "      <td>Saison Bernice</td>\n",
              "      <td>Tasted from bottle. Classic farmhouse saison. ...</td>\n",
              "      <td>4.44</td>\n",
              "      <td>0.714199</td>\n",
              "    </tr>\n",
              "    <tr>\n",
              "      <th>1108</th>\n",
              "      <td>Double Galaxy</td>\n",
              "      <td>Soft gold, foamy head. Aroma has underripe mel...</td>\n",
              "      <td>4.37</td>\n",
              "      <td>0.713743</td>\n",
              "    </tr>\n",
              "    <tr>\n",
              "      <th>3008</th>\n",
              "      <td>Pseudo Sue</td>\n",
              "      <td>Murky creamsicle orange in color. Poured with ...</td>\n",
              "      <td>4.4</td>\n",
              "      <td>0.710848</td>\n",
              "    </tr>\n",
              "    <tr>\n",
              "      <th>...</th>\n",
              "      <td>...</td>\n",
              "      <td>...</td>\n",
              "      <td>...</td>\n",
              "      <td>...</td>\n",
              "    </tr>\n",
              "    <tr>\n",
              "      <th>5419</th>\n",
              "      <td>Fort Point Pale Ale</td>\n",
              "      <td>Canned on 12/20/17, 14:31. Pours a really nice...</td>\n",
              "      <td>4.39</td>\n",
              "      <td>0.647954</td>\n",
              "    </tr>\n",
              "    <tr>\n",
              "      <th>1991</th>\n",
              "      <td>Saint Lamvinus</td>\n",
              "      <td>5800th review! 750 ml bottle into tulip glass,...</td>\n",
              "      <td>4</td>\n",
              "      <td>0.647945</td>\n",
              "    </tr>\n",
              "    <tr>\n",
              "      <th>5042</th>\n",
              "      <td>Rodenbach Caractère Rouge</td>\n",
              "      <td>Red/amber/lite brown pour; quick thin white ca...</td>\n",
              "      <td>4.85</td>\n",
              "      <td>0.647869</td>\n",
              "    </tr>\n",
              "    <tr>\n",
              "      <th>2131</th>\n",
              "      <td>Alter Ego</td>\n",
              "      <td>16oz can dated 3/19/19. Pours murky gold with ...</td>\n",
              "      <td>4.04</td>\n",
              "      <td>0.647765</td>\n",
              "    </tr>\n",
              "    <tr>\n",
              "      <th>4478</th>\n",
              "      <td>La Fosse</td>\n",
              "      <td>Blend #3. A: Pours a fizzy, light pale orange ...</td>\n",
              "      <td>4.42</td>\n",
              "      <td>0.647708</td>\n",
              "    </tr>\n",
              "  </tbody>\n",
              "</table>\n",
              "<p>300 rows × 4 columns</p>\n",
              "</div>"
            ],
            "text/plain": [
              "                   product_name  ... similarity\n",
              "1675               Doppelganger  ...   0.718292\n",
              "732             Duck Duck Gooze  ...   0.715458\n",
              "4105             Saison Bernice  ...   0.714199\n",
              "1108              Double Galaxy  ...   0.713743\n",
              "3008                 Pseudo Sue  ...   0.710848\n",
              "...                         ...  ...        ...\n",
              "5419        Fort Point Pale Ale  ...   0.647954\n",
              "1991             Saint Lamvinus  ...   0.647945\n",
              "5042  Rodenbach Caractère Rouge  ...   0.647869\n",
              "2131                  Alter Ego  ...   0.647765\n",
              "4478                   La Fosse  ...   0.647708\n",
              "\n",
              "[300 rows x 4 columns]"
            ]
          },
          "metadata": {
            "tags": []
          },
          "execution_count": 21
        }
      ]
    },
    {
      "cell_type": "markdown",
      "metadata": {
        "id": "25uLc4roSFfq",
        "colab_type": "text"
      },
      "source": [
        "## Sentiment Analysis"
      ]
    },
    {
      "cell_type": "code",
      "metadata": {
        "id": "TqRhsvGKW1Ok",
        "colab_type": "code",
        "colab": {}
      },
      "source": [
        "# https://medium.com/analytics-vidhya/simplifying-social-media-sentiment-analysis-using-vader-in-python-f9e6ec6fc52f"
      ],
      "execution_count": 0,
      "outputs": []
    },
    {
      "cell_type": "code",
      "metadata": {
        "id": "eqlkHcyPRw60",
        "colab_type": "code",
        "outputId": "d107a1ea-670d-43c7-8bb5-121b8a5b0494",
        "colab": {
          "base_uri": "https://localhost:8080/",
          "height": 125
        }
      },
      "source": [
        "!pip install vaderSentiment"
      ],
      "execution_count": 0,
      "outputs": [
        {
          "output_type": "stream",
          "text": [
            "Collecting vaderSentiment\n",
            "\u001b[?25l  Downloading https://files.pythonhosted.org/packages/86/9e/c53e1fc61aac5ee490a6ac5e21b1ac04e55a7c2aba647bb8411c9aadf24e/vaderSentiment-3.2.1-py2.py3-none-any.whl (125kB)\n",
            "\u001b[K     |████████████████████████████████| 133kB 2.8MB/s \n",
            "\u001b[?25hInstalling collected packages: vaderSentiment\n",
            "Successfully installed vaderSentiment-3.2.1\n"
          ],
          "name": "stdout"
        }
      ]
    },
    {
      "cell_type": "code",
      "metadata": {
        "id": "6R_yV1gRRfZt",
        "colab_type": "code",
        "colab": {}
      },
      "source": [
        "from vaderSentiment.vaderSentiment import SentimentIntensityAnalyzer\n",
        "analyser = SentimentIntensityAnalyzer()"
      ],
      "execution_count": 0,
      "outputs": []
    },
    {
      "cell_type": "code",
      "metadata": {
        "id": "yOKkw1sVS-Br",
        "colab_type": "code",
        "colab": {}
      },
      "source": [
        "def sentiment_analyzer_scores(sentence):\n",
        "    score = analyser.polarity_scores(sentence)\n",
        "    return score['compound']"
      ],
      "execution_count": 0,
      "outputs": []
    },
    {
      "cell_type": "code",
      "metadata": {
        "id": "LQ_NTNXlRsIA",
        "colab_type": "code",
        "outputId": "a8081ec0-47f1-4f53-ba8d-b44f25af7475",
        "colab": {
          "base_uri": "https://localhost:8080/",
          "height": 34
        }
      },
      "source": [
        "# sample check\n",
        "sentiment_analyzer_scores(\"The phone is absolutely absolutely super cool!! :)\")"
      ],
      "execution_count": 0,
      "outputs": [
        {
          "output_type": "execute_result",
          "data": {
            "text/plain": [
              "0.9034"
            ]
          },
          "metadata": {
            "tags": []
          },
          "execution_count": 17
        }
      ]
    },
    {
      "cell_type": "code",
      "metadata": {
        "id": "CV6dmBKxTdv_",
        "colab_type": "code",
        "colab": {}
      },
      "source": [
        "top_300.loc[:,'sentiment_score'] = top_300.loc[:,'product_review'].map(lambda x:sentiment_analyzer_scores(x))"
      ],
      "execution_count": 0,
      "outputs": []
    },
    {
      "cell_type": "code",
      "metadata": {
        "id": "M9TspX0UUjvu",
        "colab_type": "code",
        "outputId": "68bc93ce-1241-4672-b4ab-0035d02d5774",
        "colab": {
          "base_uri": "https://localhost:8080/",
          "height": 197
        }
      },
      "source": [
        "top_300.head()"
      ],
      "execution_count": 0,
      "outputs": [
        {
          "output_type": "execute_result",
          "data": {
            "text/html": [
              "<div>\n",
              "<style scoped>\n",
              "    .dataframe tbody tr th:only-of-type {\n",
              "        vertical-align: middle;\n",
              "    }\n",
              "\n",
              "    .dataframe tbody tr th {\n",
              "        vertical-align: top;\n",
              "    }\n",
              "\n",
              "    .dataframe thead th {\n",
              "        text-align: right;\n",
              "    }\n",
              "</style>\n",
              "<table border=\"1\" class=\"dataframe\">\n",
              "  <thead>\n",
              "    <tr style=\"text-align: right;\">\n",
              "      <th></th>\n",
              "      <th>product_name</th>\n",
              "      <th>product_review</th>\n",
              "      <th>user_rating</th>\n",
              "      <th>similarity</th>\n",
              "      <th>sentiment_score</th>\n",
              "    </tr>\n",
              "  </thead>\n",
              "  <tbody>\n",
              "    <tr>\n",
              "      <th>1675</th>\n",
              "      <td>Doppelganger</td>\n",
              "      <td>Dark, murky orange in color with an unfiltered...</td>\n",
              "      <td>4.43</td>\n",
              "      <td>0.718292</td>\n",
              "      <td>0.8979</td>\n",
              "    </tr>\n",
              "    <tr>\n",
              "      <th>732</th>\n",
              "      <td>Duck Duck Gooze</td>\n",
              "      <td>On tap at Beavertown Extravaganza. Aroma has s...</td>\n",
              "      <td>4.5</td>\n",
              "      <td>0.715458</td>\n",
              "      <td>0.6908</td>\n",
              "    </tr>\n",
              "    <tr>\n",
              "      <th>4105</th>\n",
              "      <td>Saison Bernice</td>\n",
              "      <td>Tasted from bottle. Classic farmhouse saison. ...</td>\n",
              "      <td>4.44</td>\n",
              "      <td>0.714199</td>\n",
              "      <td>0.5106</td>\n",
              "    </tr>\n",
              "    <tr>\n",
              "      <th>1108</th>\n",
              "      <td>Double Galaxy</td>\n",
              "      <td>Soft gold, foamy head. Aroma has underripe mel...</td>\n",
              "      <td>4.37</td>\n",
              "      <td>0.713743</td>\n",
              "      <td>-0.0377</td>\n",
              "    </tr>\n",
              "    <tr>\n",
              "      <th>3008</th>\n",
              "      <td>Pseudo Sue</td>\n",
              "      <td>Murky creamsicle orange in color. Poured with ...</td>\n",
              "      <td>4.4</td>\n",
              "      <td>0.710848</td>\n",
              "      <td>0.9286</td>\n",
              "    </tr>\n",
              "  </tbody>\n",
              "</table>\n",
              "</div>"
            ],
            "text/plain": [
              "         product_name  ... sentiment_score\n",
              "1675     Doppelganger  ...          0.8979\n",
              "732   Duck Duck Gooze  ...          0.6908\n",
              "4105   Saison Bernice  ...          0.5106\n",
              "1108    Double Galaxy  ...         -0.0377\n",
              "3008       Pseudo Sue  ...          0.9286\n",
              "\n",
              "[5 rows x 5 columns]"
            ]
          },
          "metadata": {
            "tags": []
          },
          "execution_count": 28
        }
      ]
    },
    {
      "cell_type": "code",
      "metadata": {
        "id": "9wovfd9sVfQ3",
        "colab_type": "code",
        "colab": {}
      },
      "source": [
        "top_300['user_rating'] = top_300['user_rating'].astype(float)"
      ],
      "execution_count": 0,
      "outputs": []
    },
    {
      "cell_type": "markdown",
      "metadata": {
        "id": "AlwB-gqEXAPe",
        "colab_type": "text"
      },
      "source": [
        "## Recommendation"
      ]
    },
    {
      "cell_type": "code",
      "metadata": {
        "id": "REgAKozwVIKd",
        "colab_type": "code",
        "outputId": "d8f72a83-b551-4ba3-8d08-4bfa7bb8f45a",
        "colab": {
          "base_uri": "https://localhost:8080/",
          "height": 137
        }
      },
      "source": [
        "# We will recommend top 3 products based on highest sentiment score\n",
        "top_300.groupby('product_name')['user_rating','similarity','sentiment_score'].mean().reset_index().sort_values(by = 'sentiment_score', ascending = False).head(3)"
      ],
      "execution_count": 0,
      "outputs": [
        {
          "output_type": "execute_result",
          "data": {
            "text/html": [
              "<div>\n",
              "<style scoped>\n",
              "    .dataframe tbody tr th:only-of-type {\n",
              "        vertical-align: middle;\n",
              "    }\n",
              "\n",
              "    .dataframe tbody tr th {\n",
              "        vertical-align: top;\n",
              "    }\n",
              "\n",
              "    .dataframe thead th {\n",
              "        text-align: right;\n",
              "    }\n",
              "</style>\n",
              "<table border=\"1\" class=\"dataframe\">\n",
              "  <thead>\n",
              "    <tr style=\"text-align: right;\">\n",
              "      <th></th>\n",
              "      <th>product_name</th>\n",
              "      <th>user_rating</th>\n",
              "      <th>similarity</th>\n",
              "      <th>sentiment_score</th>\n",
              "    </tr>\n",
              "  </thead>\n",
              "  <tbody>\n",
              "    <tr>\n",
              "      <th>44</th>\n",
              "      <td>Double Dry Hopped Congress Street</td>\n",
              "      <td>4.15</td>\n",
              "      <td>0.658891</td>\n",
              "      <td>0.9958</td>\n",
              "    </tr>\n",
              "    <tr>\n",
              "      <th>7</th>\n",
              "      <td>Art</td>\n",
              "      <td>4.67</td>\n",
              "      <td>0.654545</td>\n",
              "      <td>0.9951</td>\n",
              "    </tr>\n",
              "    <tr>\n",
              "      <th>92</th>\n",
              "      <td>Last Snow</td>\n",
              "      <td>4.45</td>\n",
              "      <td>0.655022</td>\n",
              "      <td>0.9887</td>\n",
              "    </tr>\n",
              "  </tbody>\n",
              "</table>\n",
              "</div>"
            ],
            "text/plain": [
              "                         product_name  user_rating  similarity  sentiment_score\n",
              "44  Double Dry Hopped Congress Street         4.15    0.658891           0.9958\n",
              "7                                 Art         4.67    0.654545           0.9951\n",
              "92                          Last Snow         4.45    0.655022           0.9887"
            ]
          },
          "metadata": {
            "tags": []
          },
          "execution_count": 30
        }
      ]
    },
    {
      "cell_type": "markdown",
      "metadata": {
        "id": "uKMvXpypnKe2",
        "colab_type": "text"
      },
      "source": [
        "Above mentioned are the three beers that we would recommend to a person if he is looking for a fruity, robust and a balanced beer"
      ]
    },
    {
      "cell_type": "markdown",
      "metadata": {
        "id": "5pGjNpSayVeO",
        "colab_type": "text"
      },
      "source": [
        "# Base Recommendation - User Rating Based"
      ]
    },
    {
      "cell_type": "markdown",
      "metadata": {
        "id": "_u-A2SGqgFzY",
        "colab_type": "text"
      },
      "source": [
        "Performing on the whole dataset"
      ]
    },
    {
      "cell_type": "code",
      "metadata": {
        "id": "nSqqpy7qrs0M",
        "colab_type": "code",
        "colab": {}
      },
      "source": [
        "df['user_rating'] = df['user_rating'].astype(float)"
      ],
      "execution_count": 0,
      "outputs": []
    },
    {
      "cell_type": "code",
      "metadata": {
        "id": "ndrVIIyzu9lY",
        "colab_type": "code",
        "colab": {}
      },
      "source": [
        "df.loc[:,'sentiment_score'] = df.loc[:,'product_review'].map(lambda x:sentiment_analyzer_scores(x))\n",
        "df.loc[:,\"similarity\"] = df.iloc[:,1].map(lambda x:nlp(x).similarity(nlp(attributes)))"
      ],
      "execution_count": 0,
      "outputs": []
    },
    {
      "cell_type": "code",
      "metadata": {
        "id": "jkADuODZw3Om",
        "colab_type": "code",
        "outputId": "4935aa15-d646-4ddf-b242-880e5c111e0b",
        "colab": {
          "base_uri": "https://localhost:8080/",
          "height": 137
        }
      },
      "source": [
        "#We will recommend top 3 products based on highest average user ratings\n",
        "df.groupby('product_name')['user_rating','sentiment_score','similarity'].mean().reset_index().sort_values(by = 'user_rating', ascending = False).head(3)"
      ],
      "execution_count": 0,
      "outputs": [
        {
          "output_type": "execute_result",
          "data": {
            "text/html": [
              "<div>\n",
              "<style scoped>\n",
              "    .dataframe tbody tr th:only-of-type {\n",
              "        vertical-align: middle;\n",
              "    }\n",
              "\n",
              "    .dataframe tbody tr th {\n",
              "        vertical-align: top;\n",
              "    }\n",
              "\n",
              "    .dataframe thead th {\n",
              "        text-align: right;\n",
              "    }\n",
              "</style>\n",
              "<table border=\"1\" class=\"dataframe\">\n",
              "  <thead>\n",
              "    <tr style=\"text-align: right;\">\n",
              "      <th></th>\n",
              "      <th>product_name</th>\n",
              "      <th>user_rating</th>\n",
              "      <th>sentiment_score</th>\n",
              "      <th>similarity</th>\n",
              "    </tr>\n",
              "  </thead>\n",
              "  <tbody>\n",
              "    <tr>\n",
              "      <th>54</th>\n",
              "      <td>Chemtrailmix</td>\n",
              "      <td>4.816667</td>\n",
              "      <td>0.883917</td>\n",
              "      <td>0.533751</td>\n",
              "    </tr>\n",
              "    <tr>\n",
              "      <th>148</th>\n",
              "      <td>Kentucky Brunch Brand Stout</td>\n",
              "      <td>4.812000</td>\n",
              "      <td>0.787348</td>\n",
              "      <td>0.518901</td>\n",
              "    </tr>\n",
              "    <tr>\n",
              "      <th>139</th>\n",
              "      <td>It Was All A Dream</td>\n",
              "      <td>4.785000</td>\n",
              "      <td>0.600915</td>\n",
              "      <td>0.534646</td>\n",
              "    </tr>\n",
              "  </tbody>\n",
              "</table>\n",
              "</div>"
            ],
            "text/plain": [
              "                    product_name  user_rating  sentiment_score  similarity\n",
              "54                  Chemtrailmix     4.816667         0.883917    0.533751\n",
              "148  Kentucky Brunch Brand Stout     4.812000         0.787348    0.518901\n",
              "139           It Was All A Dream     4.785000         0.600915    0.534646"
            ]
          },
          "metadata": {
            "tags": []
          },
          "execution_count": 33
        }
      ]
    },
    {
      "cell_type": "markdown",
      "metadata": {
        "id": "npd1fV64flnd",
        "colab_type": "text"
      },
      "source": [
        "If we simply recommend based on maximum user rating without considering the sentiment score or similarity score, we will miss out on a relevant recommendation. As seen in the above table of top 3 recommendations based on just user rating, the sentiment and similarity score for the selected attributes is relatively low even though the user rating is high. For e.g. - Chemtrailmix is more a spiced beer which falls under Hoppy category and it is definitely not the attribute which we selected.\n",
        "\n",
        "The previous beer recommendations made were based on similarity with the 3 selected attributes (Fruity, Robust and Balanced) and the general sentiment based on the comments. These recommendations will be best suited for a customer who keeps these three attributes as their top priority as we can see that both similarity and sentiment scores are very high.\n",
        "\n",
        "More generic and simply user rating based recommendation would be best suited for customers who do not have any attribute preference or their preference is not known.\n"
      ]
    }
  ]
}